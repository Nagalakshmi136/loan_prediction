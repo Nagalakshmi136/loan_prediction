{
  "nbformat": 4,
  "nbformat_minor": 0,
  "metadata": {
    "colab": {
      "provenance": [],
      "gpuType": "T4",
      "authorship_tag": "ABX9TyOoQEcgT3OgAD5rRJotnMBQ",
      "include_colab_link": true
    },
    "kernelspec": {
      "name": "python3",
      "display_name": "Python 3"
    },
    "language_info": {
      "name": "python"
    },
    "accelerator": "GPU"
  },
  "cells": [
    {
      "cell_type": "markdown",
      "metadata": {
        "id": "view-in-github",
        "colab_type": "text"
      },
      "source": [
        "<a href=\"https://colab.research.google.com/github/Nagalakshmi136/loan_prediction/blob/main/loan_prediction.ipynb\" target=\"_parent\"><img src=\"https://colab.research.google.com/assets/colab-badge.svg\" alt=\"Open In Colab\"/></a>"
      ]
    },
    {
      "cell_type": "markdown",
      "source": [
        "Connecting to google drive:"
      ],
      "metadata": {
        "id": "tNVVENt3nitk"
      }
    },
    {
      "cell_type": "code",
      "execution_count": 1,
      "metadata": {
        "id": "wc4cV0mRy2ie"
      },
      "outputs": [],
      "source": [
        "from google.colab import drive"
      ]
    },
    {
      "cell_type": "code",
      "source": [
        "drive.mount('/content/drive')"
      ],
      "metadata": {
        "id": "nTVq1ACtzU3G",
        "colab": {
          "base_uri": "https://localhost:8080/"
        },
        "outputId": "2ca5c691-afe5-4a8e-9938-7c11c519cc8c"
      },
      "execution_count": 2,
      "outputs": [
        {
          "output_type": "stream",
          "name": "stdout",
          "text": [
            "Mounted at /content/drive\n"
          ]
        }
      ]
    },
    {
      "cell_type": "markdown",
      "source": [
        "Importing required packages:"
      ],
      "metadata": {
        "id": "YKK96ILHntX_"
      }
    },
    {
      "cell_type": "code",
      "source": [
        "import pandas as pd\n",
        "import numpy as np\n",
        "import matplotlib.pyplot as plt"
      ],
      "metadata": {
        "id": "1PxSH8GCM0Wu"
      },
      "execution_count": 3,
      "outputs": []
    },
    {
      "cell_type": "markdown",
      "source": [
        "Loading data from google drive to dataframe:"
      ],
      "metadata": {
        "id": "neiOFzRpoF5O"
      }
    },
    {
      "cell_type": "code",
      "source": [
        "df = pd.read_csv('/content/drive/MyDrive/dataset/loan_approval_dataset.csv')\n",
        "print(df)"
      ],
      "metadata": {
        "id": "tmpmENnSb_jB"
      },
      "execution_count": null,
      "outputs": []
    },
    {
      "cell_type": "markdown",
      "source": [
        "Assigning values to categorical data:"
      ],
      "metadata": {
        "id": "9XFAlLlSoSCr"
      }
    },
    {
      "cell_type": "code",
      "source": [
        "df[' education'].replace(' Graduate',2,inplace=True)\n",
        "df[' education'].replace(' Not Graduate',1,inplace=True)\n",
        "df[' self_employed'].replace(' No',1,inplace=True)\n",
        "df[' self_employed'].replace(' Yes',2,inplace=True)\n",
        "df[' loan_status'].replace(' Approved',1,inplace=True)\n",
        "df[' loan_status'].replace(' Rejected',0,inplace=True)"
      ],
      "metadata": {
        "id": "g-8eTf0CcqaE"
      },
      "execution_count": 82,
      "outputs": []
    },
    {
      "cell_type": "markdown",
      "source": [
        "Normalization of data:"
      ],
      "metadata": {
        "id": "ZDLRzc4YpxW3"
      }
    },
    {
      "cell_type": "code",
      "source": [
        "data = df.to_numpy()\n",
        "max_arr = np.max(data, axis = 0, keepdims = True)\n",
        "min_arr = np.min(data, axis = 0, keepdims = True)\n",
        "max_min = max_arr - min_arr\n",
        "data = (data - min_arr)/max_min\n",
        "print(data)\n"
      ],
      "metadata": {
        "colab": {
          "base_uri": "https://localhost:8080/"
        },
        "id": "zChDLQeCLBR5",
        "outputId": "2cb84212-8494-4bbd-cac5-8a50dd7fb764"
      },
      "execution_count": 83,
      "outputs": [
        {
          "output_type": "stream",
          "name": "stdout",
          "text": [
            "[[0.00000000e+00 4.00000000e-01 1.00000000e+00 ... 5.75835476e-01\n",
            "  5.44217687e-01 1.00000000e+00]\n",
            " [2.34301781e-04 0.00000000e+00 0.00000000e+00 ... 2.18508997e-01\n",
            "  2.24489796e-01 0.00000000e+00]\n",
            " [4.68603561e-04 6.00000000e-01 1.00000000e+00 ... 8.48329049e-01\n",
            "  8.70748299e-01 0.00000000e+00]\n",
            " ...\n",
            " [9.99531396e-01 4.00000000e-01 0.00000000e+00 ... 4.57583548e-01\n",
            "  4.96598639e-01 0.00000000e+00]\n",
            " [9.99765698e-01 2.00000000e-01 0.00000000e+00 ... 3.54755784e-01\n",
            "  3.94557823e-01 1.00000000e+00]\n",
            " [1.00000000e+00 2.00000000e-01 1.00000000e+00 ... 9.10025707e-01\n",
            "  8.16326531e-01 1.00000000e+00]]\n"
          ]
        }
      ]
    },
    {
      "cell_type": "markdown",
      "source": [
        "Extracting training and testing datasets:"
      ],
      "metadata": {
        "id": "30sMQx1Kp3yr"
      }
    },
    {
      "cell_type": "code",
      "source": [
        "x_train = data[0:3000,1:12].T\n",
        "y_train = data[0:3000:,12:].T\n",
        "x_test = data[3000:,1:12].T\n",
        "y_test = data[3000:,12:].T\n",
        "nx, m = x_train.shape"
      ],
      "metadata": {
        "id": "ykk-sDxibtHZ"
      },
      "execution_count": 104,
      "outputs": []
    },
    {
      "cell_type": "markdown",
      "source": [
        "Methods used in training of model:"
      ],
      "metadata": {
        "id": "FJClsZ3jqEIe"
      }
    },
    {
      "cell_type": "code",
      "source": [
        "def init_params():\n",
        "  w = np.zeros((nx,1))\n",
        "  b = 0\n",
        "  alpha = 0.02\n",
        "  itr = 5000\n",
        "  return w,b,alpha,itr\n",
        "\n",
        "def sigmoid(z):\n",
        "  return 1/(1+np.exp(-z))\n",
        "\n",
        "def forward_prop(w,b,x):\n",
        "  z = np.dot(w.T,x)+b\n",
        "  a = sigmoid(z)\n",
        "  return a\n",
        "\n",
        "def backward_prop(a):\n",
        "  dz = a-y_train\n",
        "  dw = 1/m*np.matmul(x_train,dz.T)\n",
        "  db = 1/m*np.sum(dz, axis=1, keepdims=True)\n",
        "  return dw,db\n",
        "\n",
        "def update_params(w,b,dw,db,alpha):\n",
        "  w -= alpha*dw\n",
        "  b -= alpha*db\n",
        "  return w,b\n"
      ],
      "metadata": {
        "id": "W8ucR5xuP8bc"
      },
      "execution_count": 105,
      "outputs": []
    },
    {
      "cell_type": "markdown",
      "source": [
        "Training of model:"
      ],
      "metadata": {
        "id": "MTJe1s2Wql4b"
      }
    },
    {
      "cell_type": "code",
      "source": [
        "def get_prediction(a):\n",
        "  pre_out = [[1 if x>0.5 else 0 for x in a[0]]]\n",
        "  return pre_out\n",
        "def get_accuracy(a,y):\n",
        "  return np.sum(a-y == 0)/y.shape[1]\n",
        "def gradient_descendent(w,b,alpha,itr):\n",
        "  for i in range(0,itr):\n",
        "    a = forward_prop(w,b,x_train)\n",
        "    dw,db = backward_prop(a)\n",
        "    w,b = update_params(w,b,dw,db,alpha)\n",
        "    if i%100 == 0:\n",
        "      pre = get_prediction(a)\n",
        "      print(\"predictions: \",pre)\n",
        "      print(\"accuracy: \",get_accuracy(pre,y_train))\n",
        "  return w,b\n"
      ],
      "metadata": {
        "id": "fsTGyMnoVc5Y"
      },
      "execution_count": 106,
      "outputs": []
    },
    {
      "cell_type": "code",
      "source": [
        "w,b,alpha,itr = init_params()\n",
        "w,b = gradient_descendent(w,b,alpha,itr)\n",
        "print(w,b)"
      ],
      "metadata": {
        "id": "uxHfTNNmuRrc"
      },
      "execution_count": null,
      "outputs": []
    },
    {
      "cell_type": "markdown",
      "source": [
        "Testing of model:"
      ],
      "metadata": {
        "id": "F3k7XAsuqsbi"
      }
    },
    {
      "cell_type": "code",
      "source": [
        "a = forward_prop(w,b,x_test)\n",
        "res = get_prediction(a)\n",
        "print('predictions: ',res)\n",
        "print('accuracy: ',get_accuracy(res,y_test))"
      ],
      "metadata": {
        "id": "0Ca8gKEi1_tF",
        "outputId": "1f2416eb-cdcd-4c3b-b65a-2b1b486ff51f",
        "colab": {
          "base_uri": "https://localhost:8080/"
        }
      },
      "execution_count": 108,
      "outputs": [
        {
          "output_type": "stream",
          "name": "stdout",
          "text": [
            "predictions:  [[0, 0, 1, 0, 1, 1, 1, 0, 0, 0, 1, 1, 0, 1, 0, 0, 0, 0, 1, 0, 1, 0, 1, 0, 1, 0, 1, 1, 1, 0, 1, 0, 0, 1, 1, 1, 0, 1, 0, 0, 0, 1, 0, 1, 1, 1, 1, 1, 0, 0, 1, 1, 1, 1, 1, 0, 1, 0, 1, 0, 1, 1, 1, 0, 1, 0, 1, 1, 1, 0, 1, 1, 1, 1, 1, 0, 1, 1, 0, 1, 0, 0, 1, 0, 1, 0, 0, 1, 0, 1, 0, 1, 0, 1, 0, 1, 1, 1, 0, 1, 1, 0, 0, 1, 0, 0, 0, 0, 1, 1, 0, 1, 1, 0, 1, 1, 1, 0, 0, 1, 0, 1, 1, 1, 0, 0, 1, 0, 1, 1, 1, 1, 0, 1, 0, 1, 0, 1, 1, 1, 1, 0, 1, 1, 1, 1, 0, 1, 0, 0, 1, 1, 1, 1, 0, 0, 1, 1, 1, 1, 0, 1, 0, 1, 0, 0, 1, 0, 0, 1, 0, 1, 0, 0, 1, 1, 0, 0, 0, 1, 1, 1, 0, 1, 1, 1, 1, 1, 1, 1, 0, 1, 1, 1, 1, 1, 1, 1, 1, 1, 1, 0, 1, 1, 1, 1, 1, 1, 0, 1, 1, 1, 1, 1, 0, 1, 1, 1, 1, 0, 1, 1, 0, 1, 0, 1, 0, 1, 0, 0, 0, 1, 1, 1, 1, 0, 1, 0, 0, 0, 1, 0, 0, 1, 1, 1, 1, 1, 1, 1, 1, 1, 0, 1, 0, 1, 1, 1, 0, 1, 0, 1, 0, 1, 0, 1, 1, 1, 1, 0, 0, 1, 1, 1, 1, 1, 0, 1, 0, 1, 0, 1, 1, 1, 1, 1, 0, 0, 1, 1, 1, 1, 1, 1, 1, 0, 0, 1, 0, 1, 1, 1, 1, 1, 0, 0, 0, 1, 1, 1, 1, 1, 1, 1, 0, 1, 0, 0, 0, 1, 0, 0, 0, 1, 0, 0, 1, 0, 1, 1, 1, 1, 0, 1, 0, 0, 0, 0, 1, 1, 1, 1, 1, 1, 1, 1, 0, 1, 1, 1, 1, 0, 1, 0, 1, 1, 0, 0, 1, 1, 1, 1, 1, 0, 1, 0, 1, 1, 1, 0, 1, 0, 1, 1, 1, 0, 1, 1, 0, 0, 1, 1, 1, 0, 1, 1, 1, 1, 0, 0, 1, 1, 1, 0, 1, 0, 0, 1, 1, 0, 1, 1, 1, 1, 0, 1, 1, 0, 1, 1, 1, 1, 1, 1, 0, 1, 0, 1, 1, 1, 1, 1, 1, 1, 1, 0, 1, 0, 1, 0, 1, 1, 0, 1, 0, 0, 1, 0, 1, 0, 1, 1, 1, 0, 1, 1, 1, 1, 0, 1, 1, 1, 0, 0, 1, 0, 0, 1, 0, 1, 1, 1, 1, 1, 1, 1, 1, 0, 1, 1, 1, 1, 0, 1, 0, 0, 1, 1, 0, 0, 1, 1, 1, 0, 1, 0, 1, 1, 0, 1, 1, 1, 0, 1, 0, 0, 0, 0, 1, 0, 1, 1, 0, 1, 1, 0, 0, 1, 1, 1, 0, 1, 0, 1, 1, 1, 1, 0, 1, 0, 1, 1, 1, 0, 0, 1, 1, 1, 1, 1, 1, 1, 1, 1, 1, 0, 1, 1, 1, 1, 1, 1, 1, 0, 1, 0, 1, 1, 0, 1, 0, 1, 1, 1, 0, 1, 1, 0, 0, 1, 0, 0, 1, 1, 0, 1, 1, 0, 1, 1, 1, 0, 1, 0, 1, 1, 1, 1, 1, 1, 1, 0, 1, 0, 0, 1, 1, 1, 0, 0, 1, 0, 1, 0, 1, 0, 1, 0, 0, 1, 0, 1, 1, 0, 1, 0, 0, 1, 1, 1, 1, 1, 1, 0, 1, 1, 1, 1, 1, 1, 1, 1, 1, 1, 1, 0, 0, 1, 1, 1, 1, 0, 1, 0, 1, 1, 0, 0, 1, 1, 1, 0, 0, 1, 0, 0, 1, 1, 1, 1, 1, 0, 1, 1, 0, 1, 1, 0, 0, 1, 1, 1, 1, 1, 0, 1, 1, 1, 1, 1, 1, 1, 1, 0, 0, 1, 0, 1, 0, 1, 1, 0, 1, 1, 0, 1, 1, 1, 0, 0, 1, 1, 0, 0, 1, 1, 1, 0, 1, 1, 0, 0, 1, 0, 0, 1, 1, 1, 1, 1, 0, 0, 0, 1, 1, 0, 1, 1, 0, 1, 1, 1, 1, 0, 1, 1, 1, 0, 0, 1, 1, 1, 1, 0, 0, 1, 1, 0, 1, 0, 0, 1, 0, 1, 1, 1, 0, 0, 0, 1, 1, 1, 1, 1, 1, 1, 1, 0, 1, 1, 1, 0, 1, 0, 1, 0, 1, 0, 0, 1, 1, 0, 1, 0, 1, 1, 0, 1, 0, 1, 1, 0, 0, 1, 1, 1, 1, 1, 1, 0, 0, 1, 0, 1, 1, 1, 0, 0, 0, 0, 0, 1, 1, 1, 0, 0, 1, 1, 1, 1, 1, 1, 1, 0, 1, 1, 1, 1, 1, 1, 1, 0, 1, 1, 1, 1, 1, 1, 0, 1, 1, 0, 1, 0, 1, 1, 0, 0, 0, 1, 0, 1, 0, 1, 1, 1, 1, 1, 1, 1, 1, 1, 1, 1, 1, 1, 1, 1, 0, 0, 1, 1, 0, 1, 1, 1, 1, 1, 1, 0, 0, 0, 1, 1, 0, 1, 1, 0, 1, 0, 1, 0, 1, 0, 1, 1, 1, 1, 1, 1, 1, 1, 1, 1, 0, 0, 1, 1, 1, 1, 0, 1, 1, 1, 0, 1, 1, 0, 1, 0, 1, 0, 1, 0, 0, 1, 1, 0, 1, 0, 1, 0, 1, 1, 1, 1, 1, 1, 1, 1, 0, 1, 1, 1, 0, 0, 0, 1, 1, 1, 1, 1, 1, 1, 1, 1, 1, 0, 1, 0, 1, 1, 1, 1, 1, 1, 1, 0, 1, 1, 0, 1, 1, 1, 1, 1, 1, 1, 1, 0, 1, 0, 1, 1, 1, 1, 0, 0, 1, 1, 1, 1, 1, 1, 0, 1, 1, 0, 1, 1, 1, 0, 1, 1, 1, 1, 0, 0, 1, 0, 1, 1, 0, 1, 1, 0, 1, 1, 1, 1, 0, 1, 1, 1, 1, 1, 1, 1, 1, 0, 1, 1, 1, 1, 0, 0, 1, 0, 0, 1, 1, 1, 1, 0, 1, 1, 1, 1, 0, 0, 1, 1, 1, 1, 1, 1, 1, 1, 1, 0, 0, 1, 0, 1, 1, 0, 1, 1, 0, 1, 0, 0, 0, 1, 1, 1, 0, 1, 0, 0, 1, 1, 1, 1, 1, 0, 0, 1, 1, 1, 1, 0, 1, 1, 0, 1, 0, 1, 0, 1, 1, 1, 1, 1, 0, 0, 1, 1, 1, 1, 1, 1, 1, 1, 1, 1, 1, 1, 0, 0, 1, 0, 1, 1, 1, 1, 1, 0, 1, 0, 1, 0, 1, 1, 1, 0, 1, 1, 0, 0, 1, 1, 0, 0, 1, 1, 1, 1, 0, 0, 1, 0, 1, 1, 1, 0, 1, 1, 1, 1, 0, 1, 1, 1, 1, 1, 0, 0, 1, 1, 1, 0, 1, 1, 0, 1, 1, 1, 0, 1, 1, 1, 1, 0, 1, 0, 0, 1, 1, 1, 0, 1, 1, 0, 1, 1, 1, 0, 0, 1, 0, 0, 1, 0, 1, 1, 1, 1, 0, 1, 0, 1, 1, 0, 1, 1, 1, 0, 1, 0, 1, 1, 1, 1, 1, 0, 1, 1, 1, 1, 1, 0, 0, 1, 1, 1, 1, 1, 1, 1, 1, 1, 1, 1, 1, 1, 0, 0, 0, 0, 1, 1, 1, 1, 1, 1, 1, 1, 0, 1, 1, 1, 0, 1, 0, 0, 0, 0, 0, 0, 1, 1, 0, 1, 0, 1, 0, 1, 1]]\n",
            "accuracy:  0.8983451536643026\n"
          ]
        }
      ]
    },
    {
      "cell_type": "code",
      "source": [],
      "metadata": {
        "id": "ZI8V6W1ljt-Z"
      },
      "execution_count": null,
      "outputs": []
    }
  ]
}