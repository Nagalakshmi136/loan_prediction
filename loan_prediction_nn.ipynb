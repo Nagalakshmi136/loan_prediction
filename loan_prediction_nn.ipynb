{
  "nbformat": 4,
  "nbformat_minor": 0,
  "metadata": {
    "colab": {
      "provenance": [],
      "authorship_tag": "ABX9TyPMc6lbhBZcP3lu5xaorbT8",
      "include_colab_link": true
    },
    "kernelspec": {
      "name": "python3",
      "display_name": "Python 3"
    },
    "language_info": {
      "name": "python"
    }
  },
  "cells": [
    {
      "cell_type": "markdown",
      "metadata": {
        "id": "view-in-github",
        "colab_type": "text"
      },
      "source": [
        "<a href=\"https://colab.research.google.com/github/Nagalakshmi136/loan_prediction/blob/main/loan_prediction_nn.ipynb\" target=\"_parent\"><img src=\"https://colab.research.google.com/assets/colab-badge.svg\" alt=\"Open In Colab\"/></a>"
      ]
    },
    {
      "cell_type": "markdown",
      "source": [
        "\n",
        "Connecting to google drive:"
      ],
      "metadata": {
        "id": "SRpGce4iDhDb"
      }
    },
    {
      "cell_type": "code",
      "execution_count": null,
      "metadata": {
        "id": "gxvYCRrq523s"
      },
      "outputs": [],
      "source": [
        "from google.colab import drive"
      ]
    },
    {
      "cell_type": "code",
      "source": [
        "drive.mount('/content/drive')"
      ],
      "metadata": {
        "colab": {
          "base_uri": "https://localhost:8080/"
        },
        "id": "7F_KL7w66Emp",
        "outputId": "a9bfd5ae-86b7-4ef5-e2fe-eca0104c2183"
      },
      "execution_count": null,
      "outputs": [
        {
          "output_type": "stream",
          "name": "stdout",
          "text": [
            "Drive already mounted at /content/drive; to attempt to forcibly remount, call drive.mount(\"/content/drive\", force_remount=True).\n"
          ]
        }
      ]
    },
    {
      "cell_type": "markdown",
      "source": [
        "Importing required packages:"
      ],
      "metadata": {
        "id": "I2pTE5r0EFQI"
      }
    },
    {
      "cell_type": "code",
      "source": [
        "import pandas as pd\n",
        "import numpy as np\n",
        "import matplotlib.pyplot as plt\n",
        "from sklearn.metrics import confusion_matrix,classification_report"
      ],
      "metadata": {
        "id": "WCsJhMKN6IaJ"
      },
      "execution_count": null,
      "outputs": []
    },
    {
      "cell_type": "markdown",
      "source": [
        "Loading data from google drive to dataframe:"
      ],
      "metadata": {
        "id": "thUeSmfuEI3P"
      }
    },
    {
      "cell_type": "code",
      "source": [
        "df = pd.read_csv('/content/drive/MyDrive/dataset/loan_approval_dataset.csv')\n",
        "print(df)"
      ],
      "metadata": {
        "id": "wUvCSe-f6TTD",
        "colab": {
          "base_uri": "https://localhost:8080/"
        },
        "outputId": "25a2d2a6-b2c7-457b-9d91-681a87a7de4f"
      },
      "execution_count": null,
      "outputs": [
        {
          "output_type": "stream",
          "name": "stdout",
          "text": [
            "      loan_id   no_of_dependents      education  self_employed   income_annum  \\\n",
            "0           1                  2       Graduate             No        9600000   \n",
            "1           2                  0   Not Graduate            Yes        4100000   \n",
            "2           3                  3       Graduate             No        9100000   \n",
            "3           4                  3       Graduate             No        8200000   \n",
            "4           5                  5   Not Graduate            Yes        9800000   \n",
            "...       ...                ...            ...            ...            ...   \n",
            "4264     4265                  5       Graduate            Yes        1000000   \n",
            "4265     4266                  0   Not Graduate            Yes        3300000   \n",
            "4266     4267                  2   Not Graduate             No        6500000   \n",
            "4267     4268                  1   Not Graduate             No        4100000   \n",
            "4268     4269                  1       Graduate             No        9200000   \n",
            "\n",
            "       loan_amount   loan_term   cibil_score   residential_assets_value  \\\n",
            "0         29900000          12           778                    2400000   \n",
            "1         12200000           8           417                    2700000   \n",
            "2         29700000          20           506                    7100000   \n",
            "3         30700000           8           467                   18200000   \n",
            "4         24200000          20           382                   12400000   \n",
            "...            ...         ...           ...                        ...   \n",
            "4264       2300000          12           317                    2800000   \n",
            "4265      11300000          20           559                    4200000   \n",
            "4266      23900000          18           457                    1200000   \n",
            "4267      12800000           8           780                    8200000   \n",
            "4268      29700000          10           607                   17800000   \n",
            "\n",
            "       commercial_assets_value   luxury_assets_value   bank_asset_value  \\\n",
            "0                     17600000              22700000            8000000   \n",
            "1                      2200000               8800000            3300000   \n",
            "2                      4500000              33300000           12800000   \n",
            "3                      3300000              23300000            7900000   \n",
            "4                      8200000              29400000            5000000   \n",
            "...                        ...                   ...                ...   \n",
            "4264                    500000               3300000             800000   \n",
            "4265                   2900000              11000000            1900000   \n",
            "4266                  12400000              18100000            7300000   \n",
            "4267                    700000              14100000            5800000   \n",
            "4268                  11800000              35700000           12000000   \n",
            "\n",
            "      loan_status  \n",
            "0        Approved  \n",
            "1        Rejected  \n",
            "2        Rejected  \n",
            "3        Rejected  \n",
            "4        Rejected  \n",
            "...           ...  \n",
            "4264     Rejected  \n",
            "4265     Approved  \n",
            "4266     Rejected  \n",
            "4267     Approved  \n",
            "4268     Approved  \n",
            "\n",
            "[4269 rows x 13 columns]\n"
          ]
        }
      ]
    },
    {
      "cell_type": "markdown",
      "source": [
        "Assigning values to categorical data:"
      ],
      "metadata": {
        "id": "T_nswduDEN8r"
      }
    },
    {
      "cell_type": "code",
      "source": [
        "df[' education'].replace(' Graduate',2,inplace=True)\n",
        "df[' education'].replace(' Not Graduate',1,inplace=True)\n",
        "df[' self_employed'].replace(' No',1,inplace=True)\n",
        "df[' self_employed'].replace(' Yes',2,inplace=True)\n",
        "df[' loan_status'].replace(' Approved',1,inplace=True)\n",
        "df[' loan_status'].replace(' Rejected',0,inplace=True)"
      ],
      "metadata": {
        "id": "Sj37XM9O6cvq"
      },
      "execution_count": null,
      "outputs": []
    },
    {
      "cell_type": "markdown",
      "source": [
        "Normalization of data:"
      ],
      "metadata": {
        "id": "VxmwSsvtEkZK"
      }
    },
    {
      "cell_type": "code",
      "source": [
        "data = df.to_numpy()\n",
        "max_arr = np.max(data, axis = 0, keepdims = True)\n",
        "min_arr = np.min(data, axis = 0, keepdims = True)\n",
        "max_min = max_arr - min_arr\n",
        "data = (data - min_arr)/max_min\n",
        "print(data)\n"
      ],
      "metadata": {
        "id": "Z3gU11jg6iF0",
        "colab": {
          "base_uri": "https://localhost:8080/"
        },
        "outputId": "04ee95f5-93f0-4dfb-c31e-103fa385ee11"
      },
      "execution_count": null,
      "outputs": [
        {
          "output_type": "stream",
          "name": "stdout",
          "text": [
            "[[0.00000000e+00 4.00000000e-01 1.00000000e+00 ... 5.75835476e-01\n",
            "  5.44217687e-01 1.00000000e+00]\n",
            " [2.34301781e-04 0.00000000e+00 0.00000000e+00 ... 2.18508997e-01\n",
            "  2.24489796e-01 0.00000000e+00]\n",
            " [4.68603561e-04 6.00000000e-01 1.00000000e+00 ... 8.48329049e-01\n",
            "  8.70748299e-01 0.00000000e+00]\n",
            " ...\n",
            " [9.99531396e-01 4.00000000e-01 0.00000000e+00 ... 4.57583548e-01\n",
            "  4.96598639e-01 0.00000000e+00]\n",
            " [9.99765698e-01 2.00000000e-01 0.00000000e+00 ... 3.54755784e-01\n",
            "  3.94557823e-01 1.00000000e+00]\n",
            " [1.00000000e+00 2.00000000e-01 1.00000000e+00 ... 9.10025707e-01\n",
            "  8.16326531e-01 1.00000000e+00]]\n"
          ]
        }
      ]
    },
    {
      "cell_type": "markdown",
      "source": [],
      "metadata": {
        "id": "3lHHLmjuEi9T"
      }
    },
    {
      "cell_type": "markdown",
      "source": [
        "splitting into train and test datasets:"
      ],
      "metadata": {
        "id": "mxHhK4_1Ep_3"
      }
    },
    {
      "cell_type": "code",
      "source": [
        "x_train = data[0:3000,1:12].T\n",
        "y_train = data[0:3000:,12:].T\n",
        "x_test = data[3000:,1:12].T\n",
        "y_test = data[3000:,12:].T\n",
        "nx, m = x_train.shape"
      ],
      "metadata": {
        "id": "h3bt5-8l6qa3"
      },
      "execution_count": null,
      "outputs": []
    },
    {
      "cell_type": "markdown",
      "source": [
        "Methods used in training of model:"
      ],
      "metadata": {
        "id": "IKsvRxSjEzdL"
      }
    },
    {
      "cell_type": "code",
      "source": [
        "def init_params():\n",
        "  w1 = np.random.rand(nx,2)\n",
        "  b1 = np.random.rand(2,1)\n",
        "  w2 = np.random.rand(2,1)\n",
        "  b2 = 0\n",
        "  alpha = 0.02\n",
        "  itr = 5000\n",
        "  return w1,b1,w2,b2,alpha,itr\n",
        "\n",
        "def sigmoid(z):\n",
        "  return 1/(1+np.exp(-z))\n",
        "\n",
        "def relu(z):\n",
        "  return np.maximum(z,0)\n",
        "\n",
        "def drelu(z):\n",
        "  return z>0\n",
        "\n",
        "def forward_prop(w1,b1,w2,b2,x):\n",
        "  z1 = np.dot(w1.T,x)+b1\n",
        "  a1 = relu(z1)\n",
        "  z2 = np.dot(w2.T,a1)+b2\n",
        "  a2 = sigmoid(z2)\n",
        "  return z1,a1,z2,a2\n",
        "\n",
        "def backward_prop(w2,z1,a1,z2,a2):\n",
        "  dz2 = a2-y_train\n",
        "  dw2 = 1/m*np.matmul(a1,dz2.T)\n",
        "  db2 = 1/m*np.sum(dz2, axis=1, keepdims=True)\n",
        "  dz1 = np.matmul(w2,dz2)*drelu(z1)\n",
        "  dw1 = 1/m*np.matmul(x_train,dz1.T)\n",
        "  db1 = 1/m*np.sum(dz1, axis=1, keepdims=True)\n",
        "  return dw1,db1,dw2,db2\n",
        "\n",
        "def update_params(w1,b1,w2,b2,dw1,db1,dw2,db2,alpha):\n",
        "  w1 -= alpha*dw1\n",
        "  b1 -= alpha*db1\n",
        "  w2 -= alpha*dw2\n",
        "  b2 -= alpha*db2\n",
        "  return w1,b1,w2,b2\n"
      ],
      "metadata": {
        "id": "4fTV8dvw6yNg"
      },
      "execution_count": null,
      "outputs": []
    },
    {
      "cell_type": "markdown",
      "source": [
        "Training of model:"
      ],
      "metadata": {
        "id": "g5KrJ-YXE4b0"
      }
    },
    {
      "cell_type": "code",
      "source": [
        "def get_prediction(a):\n",
        "  pre_out = [[1 if x>0.5 else 0 for x in a[0]]]\n",
        "  return pre_out\n",
        "\n",
        "def get_accuracy(a,y):\n",
        "  return np.sum(a-y == 0)/y.shape[1]\n",
        "\n",
        "def gradient_descendent(w1,b1,w2,b2,alpha,itr):\n",
        "  for i in range(0,itr):\n",
        "    z1,a1,z2,a2 = forward_prop(w1,b1,w2,b2,x_train)\n",
        "    dw1,db1,dw2,db2 = backward_prop(w2,z1,a1,z2,a2)\n",
        "    w1,b1,w2,b2 = update_params(w1,b1,w2,b2,dw1,db1,dw2,db2,alpha)\n",
        "    if i%500 == 0:\n",
        "      pre = get_prediction(a2)\n",
        "      print(\"accuracy: \",get_accuracy(pre,y_train))\n",
        "  return w1,b1,w2,b2"
      ],
      "metadata": {
        "id": "ZmvHxxP_64vi"
      },
      "execution_count": null,
      "outputs": []
    },
    {
      "cell_type": "code",
      "source": [
        "w1,b1,w2,b2,alpha,itr = init_params()\n",
        "w1,b1,w2,b2 = gradient_descendent(w1,b1,w2,b2,alpha,itr)"
      ],
      "metadata": {
        "colab": {
          "base_uri": "https://localhost:8080/"
        },
        "id": "PtRRbH-_7Cy5",
        "outputId": "3434c98c-f15f-4101-eca5-b35612d5324c"
      },
      "execution_count": null,
      "outputs": [
        {
          "output_type": "stream",
          "name": "stdout",
          "text": [
            "accuracy:  0.621\n",
            "accuracy:  0.6223333333333333\n",
            "accuracy:  0.6633333333333333\n",
            "accuracy:  0.85\n",
            "accuracy:  0.9023333333333333\n",
            "accuracy:  0.9143333333333333\n",
            "accuracy:  0.92\n",
            "accuracy:  0.923\n",
            "accuracy:  0.9263333333333333\n",
            "accuracy:  0.9283333333333333\n"
          ]
        }
      ]
    },
    {
      "cell_type": "code",
      "source": [
        "z1,a1,z2,a2 = forward_prop(w1,b1,w2,b2,x_test)\n",
        "res = get_prediction(a2)\n",
        "print('accuracy: ',get_accuracy(res,y_test))"
      ],
      "metadata": {
        "colab": {
          "base_uri": "https://localhost:8080/"
        },
        "id": "huFMNbmm7DqZ",
        "outputId": "bbbe0eca-a8f0-4d75-c726-d4f6e5adafc8"
      },
      "execution_count": null,
      "outputs": [
        {
          "output_type": "stream",
          "name": "stdout",
          "text": [
            "accuracy:  0.9180457052797478\n"
          ]
        }
      ]
    }
  ]
}