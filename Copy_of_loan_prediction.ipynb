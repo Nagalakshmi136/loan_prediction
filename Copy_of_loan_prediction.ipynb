{
  "nbformat": 4,
  "nbformat_minor": 0,
  "metadata": {
    "colab": {
      "provenance": [],
      "gpuType": "T4",
      "authorship_tag": "ABX9TyMmSk6LaIoC+Dw4nQC2WGhY",
      "include_colab_link": true
    },
    "kernelspec": {
      "name": "python3",
      "display_name": "Python 3"
    },
    "language_info": {
      "name": "python"
    }
  },
  "cells": [
    {
      "cell_type": "markdown",
      "metadata": {
        "id": "view-in-github",
        "colab_type": "text"
      },
      "source": [
        "<a href=\"https://colab.research.google.com/github/Nagalakshmi136/loan_prediction/blob/main/Copy_of_loan_prediction.ipynb\" target=\"_parent\"><img src=\"https://colab.research.google.com/assets/colab-badge.svg\" alt=\"Open In Colab\"/></a>"
      ]
    },
    {
      "cell_type": "markdown",
      "source": [
        "Connecting to google drive:"
      ],
      "metadata": {
        "id": "tNVVENt3nitk"
      }
    },
    {
      "cell_type": "code",
      "execution_count": 1,
      "metadata": {
        "id": "wc4cV0mRy2ie"
      },
      "outputs": [],
      "source": [
        "from google.colab import drive"
      ]
    },
    {
      "cell_type": "code",
      "source": [
        "drive.mount('/content/drive')"
      ],
      "metadata": {
        "id": "nTVq1ACtzU3G",
        "colab": {
          "base_uri": "https://localhost:8080/"
        },
        "outputId": "6cb92973-61a6-4f07-f2c2-7dc7b4e8b69b"
      },
      "execution_count": 2,
      "outputs": [
        {
          "output_type": "stream",
          "name": "stdout",
          "text": [
            "Mounted at /content/drive\n"
          ]
        }
      ]
    },
    {
      "cell_type": "markdown",
      "source": [
        "Importing required packages:"
      ],
      "metadata": {
        "id": "YKK96ILHntX_"
      }
    },
    {
      "cell_type": "code",
      "source": [
        "import pandas as pd\n",
        "import numpy as np\n",
        "from typing import Tuple\n",
        "import matplotlib.pyplot as plt\n",
        "from sklearn.model_selection import train_test_split\n",
        "from sklearn.metrics import(\n",
        "    classification_report,\n",
        "    confusion_matrix,\n",
        ")\n",
        "import seaborn as sns\n",
        "from sklearn.utils.multiclass import unique_labels\n"
      ],
      "metadata": {
        "id": "1PxSH8GCM0Wu"
      },
      "execution_count": 3,
      "outputs": []
    },
    {
      "cell_type": "markdown",
      "source": [
        "Data Preparation:"
      ],
      "metadata": {
        "id": "ljakl2trk1SS"
      }
    },
    {
      "cell_type": "code",
      "source": [
        "def load_data(data_path: str) -> pd.DataFrame:\n",
        "    \"\"\"\n",
        "    Loads the data from given csv file path\n",
        "    Params:\n",
        "      data_path (str): data file path\n",
        "    Returns:\n",
        "      data_df (pd.DataFrame): DataFrame contains the data from file\n",
        "    \"\"\"\n",
        "\n",
        "    data_df = pd.read_csv(data_path)\n",
        "\n",
        "    return data_df"
      ],
      "metadata": {
        "id": "8Tu8Z6kTkxqb"
      },
      "execution_count": 4,
      "outputs": []
    },
    {
      "cell_type": "code",
      "source": [
        "df = pd.read_csv('/content/drive/MyDrive/dataset/loan_approval_dataset.csv')\n"
      ],
      "metadata": {
        "id": "tmpmENnSb_jB"
      },
      "execution_count": 5,
      "outputs": []
    },
    {
      "cell_type": "markdown",
      "source": [
        "Raw Data:"
      ],
      "metadata": {
        "id": "_TK1IcxLl7Nb"
      }
    },
    {
      "cell_type": "code",
      "source": [
        "df.head()"
      ],
      "metadata": {
        "colab": {
          "base_uri": "https://localhost:8080/",
          "height": 260
        },
        "id": "bnFkt6FEmGZU",
        "outputId": "bac8a397-95bc-448a-e6a4-79866c649d16"
      },
      "execution_count": 6,
      "outputs": [
        {
          "output_type": "execute_result",
          "data": {
            "text/plain": [
              "   loan_id   no_of_dependents      education  self_employed   income_annum  \\\n",
              "0        1                  2       Graduate             No        9600000   \n",
              "1        2                  0   Not Graduate            Yes        4100000   \n",
              "2        3                  3       Graduate             No        9100000   \n",
              "3        4                  3       Graduate             No        8200000   \n",
              "4        5                  5   Not Graduate            Yes        9800000   \n",
              "\n",
              "    loan_amount   loan_term   cibil_score   residential_assets_value  \\\n",
              "0      29900000          12           778                    2400000   \n",
              "1      12200000           8           417                    2700000   \n",
              "2      29700000          20           506                    7100000   \n",
              "3      30700000           8           467                   18200000   \n",
              "4      24200000          20           382                   12400000   \n",
              "\n",
              "    commercial_assets_value   luxury_assets_value   bank_asset_value  \\\n",
              "0                  17600000              22700000            8000000   \n",
              "1                   2200000               8800000            3300000   \n",
              "2                   4500000              33300000           12800000   \n",
              "3                   3300000              23300000            7900000   \n",
              "4                   8200000              29400000            5000000   \n",
              "\n",
              "   loan_status  \n",
              "0     Approved  \n",
              "1     Rejected  \n",
              "2     Rejected  \n",
              "3     Rejected  \n",
              "4     Rejected  "
            ],
            "text/html": [
              "\n",
              "  <div id=\"df-b32b02da-2692-4192-a3de-6a31ffefce24\" class=\"colab-df-container\">\n",
              "    <div>\n",
              "<style scoped>\n",
              "    .dataframe tbody tr th:only-of-type {\n",
              "        vertical-align: middle;\n",
              "    }\n",
              "\n",
              "    .dataframe tbody tr th {\n",
              "        vertical-align: top;\n",
              "    }\n",
              "\n",
              "    .dataframe thead th {\n",
              "        text-align: right;\n",
              "    }\n",
              "</style>\n",
              "<table border=\"1\" class=\"dataframe\">\n",
              "  <thead>\n",
              "    <tr style=\"text-align: right;\">\n",
              "      <th></th>\n",
              "      <th>loan_id</th>\n",
              "      <th>no_of_dependents</th>\n",
              "      <th>education</th>\n",
              "      <th>self_employed</th>\n",
              "      <th>income_annum</th>\n",
              "      <th>loan_amount</th>\n",
              "      <th>loan_term</th>\n",
              "      <th>cibil_score</th>\n",
              "      <th>residential_assets_value</th>\n",
              "      <th>commercial_assets_value</th>\n",
              "      <th>luxury_assets_value</th>\n",
              "      <th>bank_asset_value</th>\n",
              "      <th>loan_status</th>\n",
              "    </tr>\n",
              "  </thead>\n",
              "  <tbody>\n",
              "    <tr>\n",
              "      <th>0</th>\n",
              "      <td>1</td>\n",
              "      <td>2</td>\n",
              "      <td>Graduate</td>\n",
              "      <td>No</td>\n",
              "      <td>9600000</td>\n",
              "      <td>29900000</td>\n",
              "      <td>12</td>\n",
              "      <td>778</td>\n",
              "      <td>2400000</td>\n",
              "      <td>17600000</td>\n",
              "      <td>22700000</td>\n",
              "      <td>8000000</td>\n",
              "      <td>Approved</td>\n",
              "    </tr>\n",
              "    <tr>\n",
              "      <th>1</th>\n",
              "      <td>2</td>\n",
              "      <td>0</td>\n",
              "      <td>Not Graduate</td>\n",
              "      <td>Yes</td>\n",
              "      <td>4100000</td>\n",
              "      <td>12200000</td>\n",
              "      <td>8</td>\n",
              "      <td>417</td>\n",
              "      <td>2700000</td>\n",
              "      <td>2200000</td>\n",
              "      <td>8800000</td>\n",
              "      <td>3300000</td>\n",
              "      <td>Rejected</td>\n",
              "    </tr>\n",
              "    <tr>\n",
              "      <th>2</th>\n",
              "      <td>3</td>\n",
              "      <td>3</td>\n",
              "      <td>Graduate</td>\n",
              "      <td>No</td>\n",
              "      <td>9100000</td>\n",
              "      <td>29700000</td>\n",
              "      <td>20</td>\n",
              "      <td>506</td>\n",
              "      <td>7100000</td>\n",
              "      <td>4500000</td>\n",
              "      <td>33300000</td>\n",
              "      <td>12800000</td>\n",
              "      <td>Rejected</td>\n",
              "    </tr>\n",
              "    <tr>\n",
              "      <th>3</th>\n",
              "      <td>4</td>\n",
              "      <td>3</td>\n",
              "      <td>Graduate</td>\n",
              "      <td>No</td>\n",
              "      <td>8200000</td>\n",
              "      <td>30700000</td>\n",
              "      <td>8</td>\n",
              "      <td>467</td>\n",
              "      <td>18200000</td>\n",
              "      <td>3300000</td>\n",
              "      <td>23300000</td>\n",
              "      <td>7900000</td>\n",
              "      <td>Rejected</td>\n",
              "    </tr>\n",
              "    <tr>\n",
              "      <th>4</th>\n",
              "      <td>5</td>\n",
              "      <td>5</td>\n",
              "      <td>Not Graduate</td>\n",
              "      <td>Yes</td>\n",
              "      <td>9800000</td>\n",
              "      <td>24200000</td>\n",
              "      <td>20</td>\n",
              "      <td>382</td>\n",
              "      <td>12400000</td>\n",
              "      <td>8200000</td>\n",
              "      <td>29400000</td>\n",
              "      <td>5000000</td>\n",
              "      <td>Rejected</td>\n",
              "    </tr>\n",
              "  </tbody>\n",
              "</table>\n",
              "</div>\n",
              "    <div class=\"colab-df-buttons\">\n",
              "\n",
              "  <div class=\"colab-df-container\">\n",
              "    <button class=\"colab-df-convert\" onclick=\"convertToInteractive('df-b32b02da-2692-4192-a3de-6a31ffefce24')\"\n",
              "            title=\"Convert this dataframe to an interactive table.\"\n",
              "            style=\"display:none;\">\n",
              "\n",
              "  <svg xmlns=\"http://www.w3.org/2000/svg\" height=\"24px\" viewBox=\"0 -960 960 960\">\n",
              "    <path d=\"M120-120v-720h720v720H120Zm60-500h600v-160H180v160Zm220 220h160v-160H400v160Zm0 220h160v-160H400v160ZM180-400h160v-160H180v160Zm440 0h160v-160H620v160ZM180-180h160v-160H180v160Zm440 0h160v-160H620v160Z\"/>\n",
              "  </svg>\n",
              "    </button>\n",
              "\n",
              "  <style>\n",
              "    .colab-df-container {\n",
              "      display:flex;\n",
              "      gap: 12px;\n",
              "    }\n",
              "\n",
              "    .colab-df-convert {\n",
              "      background-color: #E8F0FE;\n",
              "      border: none;\n",
              "      border-radius: 50%;\n",
              "      cursor: pointer;\n",
              "      display: none;\n",
              "      fill: #1967D2;\n",
              "      height: 32px;\n",
              "      padding: 0 0 0 0;\n",
              "      width: 32px;\n",
              "    }\n",
              "\n",
              "    .colab-df-convert:hover {\n",
              "      background-color: #E2EBFA;\n",
              "      box-shadow: 0px 1px 2px rgba(60, 64, 67, 0.3), 0px 1px 3px 1px rgba(60, 64, 67, 0.15);\n",
              "      fill: #174EA6;\n",
              "    }\n",
              "\n",
              "    .colab-df-buttons div {\n",
              "      margin-bottom: 4px;\n",
              "    }\n",
              "\n",
              "    [theme=dark] .colab-df-convert {\n",
              "      background-color: #3B4455;\n",
              "      fill: #D2E3FC;\n",
              "    }\n",
              "\n",
              "    [theme=dark] .colab-df-convert:hover {\n",
              "      background-color: #434B5C;\n",
              "      box-shadow: 0px 1px 3px 1px rgba(0, 0, 0, 0.15);\n",
              "      filter: drop-shadow(0px 1px 2px rgba(0, 0, 0, 0.3));\n",
              "      fill: #FFFFFF;\n",
              "    }\n",
              "  </style>\n",
              "\n",
              "    <script>\n",
              "      const buttonEl =\n",
              "        document.querySelector('#df-b32b02da-2692-4192-a3de-6a31ffefce24 button.colab-df-convert');\n",
              "      buttonEl.style.display =\n",
              "        google.colab.kernel.accessAllowed ? 'block' : 'none';\n",
              "\n",
              "      async function convertToInteractive(key) {\n",
              "        const element = document.querySelector('#df-b32b02da-2692-4192-a3de-6a31ffefce24');\n",
              "        const dataTable =\n",
              "          await google.colab.kernel.invokeFunction('convertToInteractive',\n",
              "                                                    [key], {});\n",
              "        if (!dataTable) return;\n",
              "\n",
              "        const docLinkHtml = 'Like what you see? Visit the ' +\n",
              "          '<a target=\"_blank\" href=https://colab.research.google.com/notebooks/data_table.ipynb>data table notebook</a>'\n",
              "          + ' to learn more about interactive tables.';\n",
              "        element.innerHTML = '';\n",
              "        dataTable['output_type'] = 'display_data';\n",
              "        await google.colab.output.renderOutput(dataTable, element);\n",
              "        const docLink = document.createElement('div');\n",
              "        docLink.innerHTML = docLinkHtml;\n",
              "        element.appendChild(docLink);\n",
              "      }\n",
              "    </script>\n",
              "  </div>\n",
              "\n",
              "\n",
              "<div id=\"df-87fd0e30-226e-4d9e-b967-2c171134516a\">\n",
              "  <button class=\"colab-df-quickchart\" onclick=\"quickchart('df-87fd0e30-226e-4d9e-b967-2c171134516a')\"\n",
              "            title=\"Suggest charts.\"\n",
              "            style=\"display:none;\">\n",
              "\n",
              "<svg xmlns=\"http://www.w3.org/2000/svg\" height=\"24px\"viewBox=\"0 0 24 24\"\n",
              "     width=\"24px\">\n",
              "    <g>\n",
              "        <path d=\"M19 3H5c-1.1 0-2 .9-2 2v14c0 1.1.9 2 2 2h14c1.1 0 2-.9 2-2V5c0-1.1-.9-2-2-2zM9 17H7v-7h2v7zm4 0h-2V7h2v10zm4 0h-2v-4h2v4z\"/>\n",
              "    </g>\n",
              "</svg>\n",
              "  </button>\n",
              "\n",
              "<style>\n",
              "  .colab-df-quickchart {\n",
              "    background-color: #E8F0FE;\n",
              "    border: none;\n",
              "    border-radius: 50%;\n",
              "    cursor: pointer;\n",
              "    display: none;\n",
              "    fill: #1967D2;\n",
              "    height: 32px;\n",
              "    padding: 0 0 0 0;\n",
              "    width: 32px;\n",
              "  }\n",
              "\n",
              "  .colab-df-quickchart:hover {\n",
              "    background-color: #E2EBFA;\n",
              "    box-shadow: 0px 1px 2px rgba(60, 64, 67, 0.3), 0px 1px 3px 1px rgba(60, 64, 67, 0.15);\n",
              "    fill: #174EA6;\n",
              "  }\n",
              "\n",
              "  [theme=dark] .colab-df-quickchart {\n",
              "    background-color: #3B4455;\n",
              "    fill: #D2E3FC;\n",
              "  }\n",
              "\n",
              "  [theme=dark] .colab-df-quickchart:hover {\n",
              "    background-color: #434B5C;\n",
              "    box-shadow: 0px 1px 3px 1px rgba(0, 0, 0, 0.15);\n",
              "    filter: drop-shadow(0px 1px 2px rgba(0, 0, 0, 0.3));\n",
              "    fill: #FFFFFF;\n",
              "  }\n",
              "</style>\n",
              "\n",
              "  <script>\n",
              "    async function quickchart(key) {\n",
              "      const charts = await google.colab.kernel.invokeFunction(\n",
              "          'suggestCharts', [key], {});\n",
              "    }\n",
              "    (() => {\n",
              "      let quickchartButtonEl =\n",
              "        document.querySelector('#df-87fd0e30-226e-4d9e-b967-2c171134516a button');\n",
              "      quickchartButtonEl.style.display =\n",
              "        google.colab.kernel.accessAllowed ? 'block' : 'none';\n",
              "    })();\n",
              "  </script>\n",
              "</div>\n",
              "    </div>\n",
              "  </div>\n"
            ]
          },
          "metadata": {},
          "execution_count": 6
        }
      ]
    },
    {
      "cell_type": "markdown",
      "source": [
        "Preprocessing the Data:"
      ],
      "metadata": {
        "id": "siJQq7F2mlod"
      }
    },
    {
      "cell_type": "code",
      "source": [
        "def min_max_norm(train_data: np.ndarray) -> np.ndarray:\n",
        "    \"\"\"\n",
        "    calculate min_max normalization of a numpy array\n",
        "    Params:\n",
        "      train_data(np.ndarray): numpy array to calculate minmax normalization\n",
        "    Returns:\n",
        "      normalized_data(np.ndarray): minmax normalized numpy array\n",
        "    \"\"\"\n",
        "\n",
        "    x_min = np.min(train_data)\n",
        "    x_max = np.max(train_data)\n",
        "    normalized_data = (train_data - x_min) / (x_max - x_min)\n",
        "    return normalized_data\n",
        "\n",
        "\n",
        "def normalize_data(df: pd.DataFrame) -> pd.DataFrame:\n",
        "    \"\"\"\n",
        "    perform the minmax normalization on dataframe(should contain the numerical features)\n",
        "    Params:\n",
        "      df(pd.DataFrame):DataFrame to normalize\n",
        "    Returns:\n",
        "      df(pd.Dataframe):Normalized DataFrame\n",
        "    \"\"\"\n",
        "\n",
        "    cols = df.columns\n",
        "    for col in cols:\n",
        "        df[col] = min_max_norm(df[col].to_numpy().reshape(-1, 1))\n",
        "\n",
        "    return df\n",
        "\n",
        "\n",
        "def split_data(\n",
        "    x: pd.DataFrame, y: pd.DataFrame\n",
        ") -> Tuple[pd.DataFrame, pd.DataFrame, pd.DataFrame, pd.DataFrame]:\n",
        "    x_train, x_test, y_train, y_test = train_test_split(\n",
        "        x, y, test_size=0.25, random_state=0, stratify=y\n",
        "    )\n",
        "\n",
        "    return x_train, x_test, y_train, y_test\n",
        "\n",
        "\n",
        "def preprocess_data(df: pd.DataFrame) -> Tuple[pd.DataFrame, pd.DataFrame]:\n",
        "    \"\"\"\n",
        "    Performs the data preprocessing steps\n",
        "    Params:\n",
        "      Params(pd.DataFrame): pandas DataFrame to perform Preprocessing\n",
        "    Returns:\n",
        "      x_data(pd.DataFrame): Independent features DataFrame after performing preprocessing\n",
        "      y_data(pd.DataFrame): Dependent feature DataFrame\n",
        "    \"\"\"\n",
        "\n",
        "    # drop rows with null values\n",
        "    df = df.dropna()\n",
        "\n",
        "    # droping loan_id columns because they do not adding any meaning\n",
        "    df.drop(columns=[\"loan_id\"], inplace=True)\n",
        "\n",
        "    # Extracting numerical columns for normalization\n",
        "    numerical_col = df._get_numeric_data().columns.tolist()\n",
        "\n",
        "    # Mapping target feature from classes `Approved` and `Rejected` to 1 and 0\n",
        "    df[\" loan_status\"] = (df[' loan_status'] == \" Approved\").astype(\"int\")\n",
        "\n",
        "    # converting categorial features into numerical features using onehot encoding\n",
        "    df = pd.get_dummies(df)\n",
        "    numerical_df = df[numerical_col]\n",
        "\n",
        "    # Normalizing numerical columns\n",
        "    normalized_numerical = normalize_data(numerical_df)\n",
        "    dataset = df.drop(columns=numerical_col)\n",
        "\n",
        "    # Combining numerical features df and one hot encoded df\n",
        "    final_df = pd.concat([normalized_numerical, dataset], axis=1, join=\"inner\")\n",
        "\n",
        "    # Spliting df into dependent and independent features\n",
        "    x_data = final_df.drop(columns=[\" loan_status\"])\n",
        "    y_data = final_df[[\" loan_status\"]]\n",
        "    return x_data, y_data\n"
      ],
      "metadata": {
        "id": "-bUIqeG7moap"
      },
      "execution_count": 7,
      "outputs": []
    },
    {
      "cell_type": "code",
      "source": [
        "x,y = preprocess_data(df)\n",
        "df_x_train, df_x_test, df_y_train, df_y_test = split_data(x,y)"
      ],
      "metadata": {
        "colab": {
          "base_uri": "https://localhost:8080/"
        },
        "id": "AmjV3ClYtNtP",
        "outputId": "f8cbeff9-0cb3-44c8-f8dd-5017da7b63f1"
      },
      "execution_count": 8,
      "outputs": [
        {
          "output_type": "stream",
          "name": "stderr",
          "text": [
            "<ipython-input-7-cb68f9da2b51>:27: SettingWithCopyWarning: \n",
            "A value is trying to be set on a copy of a slice from a DataFrame.\n",
            "Try using .loc[row_indexer,col_indexer] = value instead\n",
            "\n",
            "See the caveats in the documentation: https://pandas.pydata.org/pandas-docs/stable/user_guide/indexing.html#returning-a-view-versus-a-copy\n",
            "  df[col] = min_max_norm(df[col].to_numpy().reshape(-1, 1))\n"
          ]
        }
      ]
    },
    {
      "cell_type": "markdown",
      "source": [
        "After processing the raw data:"
      ],
      "metadata": {
        "id": "tBweM_QK-zaK"
      }
    },
    {
      "cell_type": "code",
      "source": [
        "df_x_train.head()"
      ],
      "metadata": {
        "colab": {
          "base_uri": "https://localhost:8080/",
          "height": 260
        },
        "id": "WUGRa7kf50re",
        "outputId": "b3ff7827-1e93-4b30-dfb3-9bef29e3cba0"
      },
      "execution_count": 9,
      "outputs": [
        {
          "output_type": "execute_result",
          "data": {
            "text/plain": [
              "       no_of_dependents   income_annum   loan_amount   loan_term  \\\n",
              "1758                0.8       0.793814      0.772959    0.000000   \n",
              "1020                0.0       0.505155      0.339286    0.888889   \n",
              "1343                0.2       0.917526      0.788265    0.111111   \n",
              "1425                0.6       0.237113      0.242347    0.777778   \n",
              "2209                1.0       0.536082      0.418367    0.000000   \n",
              "\n",
              "       cibil_score   residential_assets_value   commercial_assets_value  \\\n",
              "1758      0.448333                   0.263699                  0.175258   \n",
              "1020      0.085000                   0.061644                  0.190722   \n",
              "1343      0.346667                   0.441781                  0.603093   \n",
              "1425      0.206667                   0.164384                  0.164948   \n",
              "2209      0.090000                   0.041096                  0.231959   \n",
              "\n",
              "       luxury_assets_value   bank_asset_value   education_ Graduate  \\\n",
              "1758              0.508997           0.503401                     1   \n",
              "1020              0.362468           0.517007                     0   \n",
              "1343              0.791774           0.530612                     1   \n",
              "1425              0.141388           0.088435                     0   \n",
              "2209              0.488432           0.353741                     0   \n",
              "\n",
              "       education_ Not Graduate   self_employed_ No   self_employed_ Yes  \n",
              "1758                         0                   1                    0  \n",
              "1020                         1                   1                    0  \n",
              "1343                         0                   1                    0  \n",
              "1425                         1                   0                    1  \n",
              "2209                         1                   0                    1  "
            ],
            "text/html": [
              "\n",
              "  <div id=\"df-1e53829c-5dc4-4cb3-8582-a80f0592f329\" class=\"colab-df-container\">\n",
              "    <div>\n",
              "<style scoped>\n",
              "    .dataframe tbody tr th:only-of-type {\n",
              "        vertical-align: middle;\n",
              "    }\n",
              "\n",
              "    .dataframe tbody tr th {\n",
              "        vertical-align: top;\n",
              "    }\n",
              "\n",
              "    .dataframe thead th {\n",
              "        text-align: right;\n",
              "    }\n",
              "</style>\n",
              "<table border=\"1\" class=\"dataframe\">\n",
              "  <thead>\n",
              "    <tr style=\"text-align: right;\">\n",
              "      <th></th>\n",
              "      <th>no_of_dependents</th>\n",
              "      <th>income_annum</th>\n",
              "      <th>loan_amount</th>\n",
              "      <th>loan_term</th>\n",
              "      <th>cibil_score</th>\n",
              "      <th>residential_assets_value</th>\n",
              "      <th>commercial_assets_value</th>\n",
              "      <th>luxury_assets_value</th>\n",
              "      <th>bank_asset_value</th>\n",
              "      <th>education_ Graduate</th>\n",
              "      <th>education_ Not Graduate</th>\n",
              "      <th>self_employed_ No</th>\n",
              "      <th>self_employed_ Yes</th>\n",
              "    </tr>\n",
              "  </thead>\n",
              "  <tbody>\n",
              "    <tr>\n",
              "      <th>1758</th>\n",
              "      <td>0.8</td>\n",
              "      <td>0.793814</td>\n",
              "      <td>0.772959</td>\n",
              "      <td>0.000000</td>\n",
              "      <td>0.448333</td>\n",
              "      <td>0.263699</td>\n",
              "      <td>0.175258</td>\n",
              "      <td>0.508997</td>\n",
              "      <td>0.503401</td>\n",
              "      <td>1</td>\n",
              "      <td>0</td>\n",
              "      <td>1</td>\n",
              "      <td>0</td>\n",
              "    </tr>\n",
              "    <tr>\n",
              "      <th>1020</th>\n",
              "      <td>0.0</td>\n",
              "      <td>0.505155</td>\n",
              "      <td>0.339286</td>\n",
              "      <td>0.888889</td>\n",
              "      <td>0.085000</td>\n",
              "      <td>0.061644</td>\n",
              "      <td>0.190722</td>\n",
              "      <td>0.362468</td>\n",
              "      <td>0.517007</td>\n",
              "      <td>0</td>\n",
              "      <td>1</td>\n",
              "      <td>1</td>\n",
              "      <td>0</td>\n",
              "    </tr>\n",
              "    <tr>\n",
              "      <th>1343</th>\n",
              "      <td>0.2</td>\n",
              "      <td>0.917526</td>\n",
              "      <td>0.788265</td>\n",
              "      <td>0.111111</td>\n",
              "      <td>0.346667</td>\n",
              "      <td>0.441781</td>\n",
              "      <td>0.603093</td>\n",
              "      <td>0.791774</td>\n",
              "      <td>0.530612</td>\n",
              "      <td>1</td>\n",
              "      <td>0</td>\n",
              "      <td>1</td>\n",
              "      <td>0</td>\n",
              "    </tr>\n",
              "    <tr>\n",
              "      <th>1425</th>\n",
              "      <td>0.6</td>\n",
              "      <td>0.237113</td>\n",
              "      <td>0.242347</td>\n",
              "      <td>0.777778</td>\n",
              "      <td>0.206667</td>\n",
              "      <td>0.164384</td>\n",
              "      <td>0.164948</td>\n",
              "      <td>0.141388</td>\n",
              "      <td>0.088435</td>\n",
              "      <td>0</td>\n",
              "      <td>1</td>\n",
              "      <td>0</td>\n",
              "      <td>1</td>\n",
              "    </tr>\n",
              "    <tr>\n",
              "      <th>2209</th>\n",
              "      <td>1.0</td>\n",
              "      <td>0.536082</td>\n",
              "      <td>0.418367</td>\n",
              "      <td>0.000000</td>\n",
              "      <td>0.090000</td>\n",
              "      <td>0.041096</td>\n",
              "      <td>0.231959</td>\n",
              "      <td>0.488432</td>\n",
              "      <td>0.353741</td>\n",
              "      <td>0</td>\n",
              "      <td>1</td>\n",
              "      <td>0</td>\n",
              "      <td>1</td>\n",
              "    </tr>\n",
              "  </tbody>\n",
              "</table>\n",
              "</div>\n",
              "    <div class=\"colab-df-buttons\">\n",
              "\n",
              "  <div class=\"colab-df-container\">\n",
              "    <button class=\"colab-df-convert\" onclick=\"convertToInteractive('df-1e53829c-5dc4-4cb3-8582-a80f0592f329')\"\n",
              "            title=\"Convert this dataframe to an interactive table.\"\n",
              "            style=\"display:none;\">\n",
              "\n",
              "  <svg xmlns=\"http://www.w3.org/2000/svg\" height=\"24px\" viewBox=\"0 -960 960 960\">\n",
              "    <path d=\"M120-120v-720h720v720H120Zm60-500h600v-160H180v160Zm220 220h160v-160H400v160Zm0 220h160v-160H400v160ZM180-400h160v-160H180v160Zm440 0h160v-160H620v160ZM180-180h160v-160H180v160Zm440 0h160v-160H620v160Z\"/>\n",
              "  </svg>\n",
              "    </button>\n",
              "\n",
              "  <style>\n",
              "    .colab-df-container {\n",
              "      display:flex;\n",
              "      gap: 12px;\n",
              "    }\n",
              "\n",
              "    .colab-df-convert {\n",
              "      background-color: #E8F0FE;\n",
              "      border: none;\n",
              "      border-radius: 50%;\n",
              "      cursor: pointer;\n",
              "      display: none;\n",
              "      fill: #1967D2;\n",
              "      height: 32px;\n",
              "      padding: 0 0 0 0;\n",
              "      width: 32px;\n",
              "    }\n",
              "\n",
              "    .colab-df-convert:hover {\n",
              "      background-color: #E2EBFA;\n",
              "      box-shadow: 0px 1px 2px rgba(60, 64, 67, 0.3), 0px 1px 3px 1px rgba(60, 64, 67, 0.15);\n",
              "      fill: #174EA6;\n",
              "    }\n",
              "\n",
              "    .colab-df-buttons div {\n",
              "      margin-bottom: 4px;\n",
              "    }\n",
              "\n",
              "    [theme=dark] .colab-df-convert {\n",
              "      background-color: #3B4455;\n",
              "      fill: #D2E3FC;\n",
              "    }\n",
              "\n",
              "    [theme=dark] .colab-df-convert:hover {\n",
              "      background-color: #434B5C;\n",
              "      box-shadow: 0px 1px 3px 1px rgba(0, 0, 0, 0.15);\n",
              "      filter: drop-shadow(0px 1px 2px rgba(0, 0, 0, 0.3));\n",
              "      fill: #FFFFFF;\n",
              "    }\n",
              "  </style>\n",
              "\n",
              "    <script>\n",
              "      const buttonEl =\n",
              "        document.querySelector('#df-1e53829c-5dc4-4cb3-8582-a80f0592f329 button.colab-df-convert');\n",
              "      buttonEl.style.display =\n",
              "        google.colab.kernel.accessAllowed ? 'block' : 'none';\n",
              "\n",
              "      async function convertToInteractive(key) {\n",
              "        const element = document.querySelector('#df-1e53829c-5dc4-4cb3-8582-a80f0592f329');\n",
              "        const dataTable =\n",
              "          await google.colab.kernel.invokeFunction('convertToInteractive',\n",
              "                                                    [key], {});\n",
              "        if (!dataTable) return;\n",
              "\n",
              "        const docLinkHtml = 'Like what you see? Visit the ' +\n",
              "          '<a target=\"_blank\" href=https://colab.research.google.com/notebooks/data_table.ipynb>data table notebook</a>'\n",
              "          + ' to learn more about interactive tables.';\n",
              "        element.innerHTML = '';\n",
              "        dataTable['output_type'] = 'display_data';\n",
              "        await google.colab.output.renderOutput(dataTable, element);\n",
              "        const docLink = document.createElement('div');\n",
              "        docLink.innerHTML = docLinkHtml;\n",
              "        element.appendChild(docLink);\n",
              "      }\n",
              "    </script>\n",
              "  </div>\n",
              "\n",
              "\n",
              "<div id=\"df-2c78b252-f070-45da-a91d-f497cd4fc647\">\n",
              "  <button class=\"colab-df-quickchart\" onclick=\"quickchart('df-2c78b252-f070-45da-a91d-f497cd4fc647')\"\n",
              "            title=\"Suggest charts.\"\n",
              "            style=\"display:none;\">\n",
              "\n",
              "<svg xmlns=\"http://www.w3.org/2000/svg\" height=\"24px\"viewBox=\"0 0 24 24\"\n",
              "     width=\"24px\">\n",
              "    <g>\n",
              "        <path d=\"M19 3H5c-1.1 0-2 .9-2 2v14c0 1.1.9 2 2 2h14c1.1 0 2-.9 2-2V5c0-1.1-.9-2-2-2zM9 17H7v-7h2v7zm4 0h-2V7h2v10zm4 0h-2v-4h2v4z\"/>\n",
              "    </g>\n",
              "</svg>\n",
              "  </button>\n",
              "\n",
              "<style>\n",
              "  .colab-df-quickchart {\n",
              "    background-color: #E8F0FE;\n",
              "    border: none;\n",
              "    border-radius: 50%;\n",
              "    cursor: pointer;\n",
              "    display: none;\n",
              "    fill: #1967D2;\n",
              "    height: 32px;\n",
              "    padding: 0 0 0 0;\n",
              "    width: 32px;\n",
              "  }\n",
              "\n",
              "  .colab-df-quickchart:hover {\n",
              "    background-color: #E2EBFA;\n",
              "    box-shadow: 0px 1px 2px rgba(60, 64, 67, 0.3), 0px 1px 3px 1px rgba(60, 64, 67, 0.15);\n",
              "    fill: #174EA6;\n",
              "  }\n",
              "\n",
              "  [theme=dark] .colab-df-quickchart {\n",
              "    background-color: #3B4455;\n",
              "    fill: #D2E3FC;\n",
              "  }\n",
              "\n",
              "  [theme=dark] .colab-df-quickchart:hover {\n",
              "    background-color: #434B5C;\n",
              "    box-shadow: 0px 1px 3px 1px rgba(0, 0, 0, 0.15);\n",
              "    filter: drop-shadow(0px 1px 2px rgba(0, 0, 0, 0.3));\n",
              "    fill: #FFFFFF;\n",
              "  }\n",
              "</style>\n",
              "\n",
              "  <script>\n",
              "    async function quickchart(key) {\n",
              "      const charts = await google.colab.kernel.invokeFunction(\n",
              "          'suggestCharts', [key], {});\n",
              "    }\n",
              "    (() => {\n",
              "      let quickchartButtonEl =\n",
              "        document.querySelector('#df-2c78b252-f070-45da-a91d-f497cd4fc647 button');\n",
              "      quickchartButtonEl.style.display =\n",
              "        google.colab.kernel.accessAllowed ? 'block' : 'none';\n",
              "    })();\n",
              "  </script>\n",
              "</div>\n",
              "    </div>\n",
              "  </div>\n"
            ]
          },
          "metadata": {},
          "execution_count": 9
        }
      ]
    },
    {
      "cell_type": "markdown",
      "source": [
        "Convert DataFrame to numpy array:"
      ],
      "metadata": {
        "id": "bEkVodyR_JnK"
      }
    },
    {
      "cell_type": "code",
      "source": [
        "def convert_to_array(x: pd.DataFrame, y: pd.DataFrame) -> Tuple[np.ndarray, np.ndarray]:\n",
        "    \"\"\"\n",
        "    Converts pandas dataframe to numpy arrray\n",
        "    Params:\n",
        "      x(pd.DataFrame): Independent features dataframe to convert\n",
        "      y(pd.DataFrame): Dependent features dataframe to convert\n",
        "    Returns:\n",
        "      x_data(numpy.ndarray): numpy array representation of x\n",
        "      y_data(numpy.ndarray): numpy array representation of y\n",
        "    \"\"\"\n",
        "\n",
        "    x_data = x.to_numpy().T\n",
        "    y_data = y.to_numpy().reshape(1,-1)\n",
        "\n",
        "    return x_data, y_data"
      ],
      "metadata": {
        "id": "g-8eTf0CcqaE"
      },
      "execution_count": 10,
      "outputs": []
    },
    {
      "cell_type": "code",
      "source": [
        "x_train, y_train = convert_to_array(df_x_train,df_y_train)\n",
        "x_test, y_test = convert_to_array(df_x_test,df_y_test)\n",
        "print(x_train.shape,y_train.shape)"
      ],
      "metadata": {
        "colab": {
          "base_uri": "https://localhost:8080/"
        },
        "id": "nIb91NBrAQcp",
        "outputId": "da71a389-2e8e-4114-a204-02af03c9c544"
      },
      "execution_count": 11,
      "outputs": [
        {
          "output_type": "stream",
          "name": "stdout",
          "text": [
            "(13, 3201) (1, 3201)\n"
          ]
        }
      ]
    },
    {
      "cell_type": "markdown",
      "source": [
        "Training the Model:\n",
        "\n",
        "\n",
        "Logistic Regression Algorithm:"
      ],
      "metadata": {
        "id": "a5jdJSeWA9ta"
      }
    },
    {
      "cell_type": "code",
      "source": [
        "class LogisticRegression:\n",
        "\n",
        "  def __init__(self):\n",
        "    # print(x_train.shape[0])\n",
        "    self.w1 = np.random.rand(x_train.shape[0],2)\n",
        "    self.b1 = np.random.rand(2,1)\n",
        "    self.w2 = np.random.rand(2,1)\n",
        "    self.b2 = 0\n",
        "    self.alpha = 0.03\n",
        "    self.itr = 5000\n",
        "\n",
        "  def linear_forward(self,w: np.ndarray, b: np.ndarray, x: np.ndarray) -> np.ndarray :\n",
        "    z = np.dot(w.T,x) + b\n",
        "    # print(z.shape)\n",
        "    return z\n",
        "\n",
        "  def sigmoid(self,z):\n",
        "    return 1/(1+np.exp(-z))\n",
        "\n",
        "  def relu(self,z):\n",
        "    return np.maximum(z,0)\n",
        "\n",
        "  def drelu(self,z):\n",
        "    return z>0\n",
        "\n",
        "  def compute_cost(self,a, y) -> float:\n",
        "    cost = -np.mean(y*np.log(a) + (1-y)*np.log(1-a), keepdims = True)\n",
        "    return cost[0][0]\n",
        "  def forward_prop(self,w1 ,b1 ,w2 ,b2 ,x):\n",
        "    z1 = self.linear_forward(w1, b1, x)\n",
        "    a1 = self.relu(z1)\n",
        "    z2 = self.linear_forward(w2, b2, a1)\n",
        "    a2 = self.sigmoid(z2)\n",
        "    # print(z1.shape,a1.shape,z2.shape,a2.shape)\n",
        "    return z1,a1,z2,a2\n",
        "\n",
        "  def backward_prop(self,w2,z1,a1,z2,a2,y):\n",
        "    m = y.shape[1]\n",
        "    # print(m)\n",
        "    # print(a2.shape)\n",
        "    dz2 = a2-y\n",
        "    dw2 = 1/m*np.matmul(a1,dz2.T)\n",
        "    db2 = 1/m*np.sum(dz2, axis=1, keepdims=True)\n",
        "    dz1 = np.matmul(w2,dz2)*self.drelu(z1)\n",
        "    dw1 = 1/m*np.matmul(x_train,dz1.T)\n",
        "    db1 = 1/m*np.sum(dz1, axis=1, keepdims=True)\n",
        "    return dw1,db1,dw2,db2\n",
        "\n",
        "  def update_params(self,w1,b1,w2,b2,dw1,db1,dw2,db2):\n",
        "    w1 -= self.alpha*dw1\n",
        "    b1 -= self.alpha*db1\n",
        "    w2 -= self.alpha*dw2\n",
        "    b2 -= self.alpha*db2\n",
        "    return w1, b1, w2, b2\n",
        "\n",
        "  def fit(self, x: np.ndarray, y: np.ndarray, print_cost: bool = False):\n",
        "    w1 = self.w1\n",
        "    b1 = self.b1\n",
        "    w2 = self.w2\n",
        "    b2 = self.b2\n",
        "    k = 0\n",
        "    costs = []\n",
        "    for i in range(self.itr):\n",
        "      z1,a1,z2,a2 = self.forward_prop(w1, b1, w2, b2, x)\n",
        "      cost = self.compute_cost(a2, y)\n",
        "      costs.append(cost)\n",
        "      dw1,db1,dw2,db2 = self.backward_prop(w2, z1, a1, z2, a2, y)\n",
        "      w1,b1,w2,b2 = self.update_params(w1,b1,w2,b2,dw1,db1,dw2,db2)\n",
        "      if k == i and print_cost:\n",
        "        print(f'Cost for {i} iterations: {cost}')\n",
        "        k += self.itr//10\n",
        "    if print_cost:\n",
        "      print(f\"final cost {costs[-1]}\")\n",
        "    self.w1 = w1\n",
        "    self.b1 = b1\n",
        "    self.w2 = w2\n",
        "    self.b2 = b2\n",
        "    self.costs = costs\n",
        "\n",
        "  def predict(self,x: np.ndarray):\n",
        "     z1,a1,z2,a2 = self.forward_prop(self.w1, self.b1, self.w2, self.b2, x)\n",
        "     y_predict = (a2 >= 0.5)*1\n",
        "     return y_predict\n",
        "\n",
        "  def get_cost(self):\n",
        "    return self.costs\n",
        "\n",
        "\n",
        "\n"
      ],
      "metadata": {
        "id": "ykk-sDxibtHZ"
      },
      "execution_count": 12,
      "outputs": []
    },
    {
      "cell_type": "code",
      "source": [
        "log_reg_mod = LogisticRegression()\n",
        "log_reg_mod.fit(x_train, y_train, True)\n",
        "cost = log_reg_mod.get_cost()"
      ],
      "metadata": {
        "id": "W8ucR5xuP8bc",
        "colab": {
          "base_uri": "https://localhost:8080/"
        },
        "outputId": "8efdafb2-31b0-4df6-9ce2-74a47efafbeb"
      },
      "execution_count": 13,
      "outputs": [
        {
          "output_type": "stream",
          "name": "stdout",
          "text": [
            "Cost for 0 iterations: 1.1645040517633143\n",
            "Cost for 500 iterations: 0.49791406138633676\n",
            "Cost for 1000 iterations: 0.29296264364573604\n",
            "Cost for 1500 iterations: 0.24493879884551625\n",
            "Cost for 2000 iterations: 0.232164832567627\n",
            "Cost for 2500 iterations: 0.22731685753497774\n",
            "Cost for 3000 iterations: 0.22504887573902316\n",
            "Cost for 3500 iterations: 0.2231953157029623\n",
            "Cost for 4000 iterations: 0.2211054401374405\n",
            "Cost for 4500 iterations: 0.21464588415559874\n",
            "final cost 0.21087906268522674\n"
          ]
        }
      ]
    },
    {
      "cell_type": "markdown",
      "source": [
        "Plotting learning curve:"
      ],
      "metadata": {
        "id": "qFplM9oX3v0q"
      }
    },
    {
      "cell_type": "code",
      "source": [
        "plt.plot(cost)\n",
        "plt.xlabel(\"No. of iterations\")\n",
        "plt.ylabel(\"cost\")\n",
        "plt.title(\"Learning curve\")"
      ],
      "metadata": {
        "colab": {
          "base_uri": "https://localhost:8080/",
          "height": 490
        },
        "id": "G5WJ2Emk3tGT",
        "outputId": "fa6a8d1d-b89f-4dd1-c120-b11f0d4bcf3e"
      },
      "execution_count": 14,
      "outputs": [
        {
          "output_type": "execute_result",
          "data": {
            "text/plain": [
              "Text(0.5, 1.0, 'Learning curve')"
            ]
          },
          "metadata": {},
          "execution_count": 14
        },
        {
          "output_type": "display_data",
          "data": {
            "text/plain": [
              "<Figure size 640x480 with 1 Axes>"
            ],
            "image/png": "[encoded data removed]"
          },
          "metadata": {}
        }
      ]
    },
    {
      "cell_type": "markdown",
      "source": [
        "Predicting results:"
      ],
      "metadata": {
        "id": "MTJe1s2Wql4b"
      }
    },
    {
      "cell_type": "code",
      "source": [
        "def display_confusion_matrix(cm):\n",
        "  sns.heatmap(cm, cmap = \"Greens\", annot = True, cbar_kws={\"label\":\"color bar\"},\n",
        "              xticklabels = [\"Approved\", \"Rejected\"], yticklabels = [\"Approved\",\"Rejected\"])\n",
        "  plt.xlabel(\"Predicted\")\n",
        "  plt.ylabel(\"True\")\n",
        "  plt.title(\"confusion Matrix\")\n"
      ],
      "metadata": {
        "id": "uYrA_aCci7wd"
      },
      "execution_count": 28,
      "outputs": []
    },
    {
      "cell_type": "code",
      "source": [
        "y_predict = log_reg_mod.predict(x_test)[0]\n",
        "cm = confusion_matrix(y_test[0],y_predict)\n",
        "print(classification_report(y_test[0],y_predict))\n",
        "print(\"\\n\")\n",
        "display_confusion_matrix(cm)"
      ],
      "metadata": {
        "colab": {
          "base_uri": "https://localhost:8080/",
          "height": 671
        },
        "id": "IAGSncM5fAYq",
        "outputId": "459112c5-2b3c-4766-bc86-ea3748b11d29"
      },
      "execution_count": 29,
      "outputs": [
        {
          "output_type": "stream",
          "name": "stdout",
          "text": [
            "              precision    recall  f1-score   support\n",
            "\n",
            "           0       0.91      0.90      0.91       404\n",
            "           1       0.94      0.95      0.95       664\n",
            "\n",
            "    accuracy                           0.93      1068\n",
            "   macro avg       0.93      0.93      0.93      1068\n",
            "weighted avg       0.93      0.93      0.93      1068\n",
            "\n",
            "\n",
            "\n"
          ]
        },
        {
          "output_type": "display_data",
          "data": {
            "text/plain": [
              "<Figure size 640x480 with 2 Axes>"
            ],
            "image/png": "[encoded data removed]"
          },
          "metadata": {}
        }
      ]
    }
  ]
}